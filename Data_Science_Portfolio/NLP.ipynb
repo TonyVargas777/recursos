{
 "cells": [
  {
   "cell_type": "markdown",
   "id": "9nHHF9_Y6IMu",
   "metadata": {
    "id": "9nHHF9_Y6IMu"
   },
   "source": [
    "# Natural Language Processing (NLP)\n",
    "\n",
    "In this notebook, we will learn the basics of Natural Language Processing (NLP) and implement some fundamental NLP tasks using Python libraries such as NLTK, spaCy, and TensorFlow/Keras."
   ]
  },
  {
   "cell_type": "markdown",
   "id": "0cxeVn9s6IMw",
   "metadata": {
    "id": "0cxeVn9s6IMw"
   },
   "source": [
    "## 1. Import Libraries"
   ]
  },
  {
   "cell_type": "code",
   "execution_count": 3,
   "id": "-PGabgEF6IMw",
   "metadata": {
    "colab": {
     "base_uri": "https://localhost:8080/"
    },
    "id": "-PGabgEF6IMw",
    "outputId": "f0df92a5-046b-45a6-a97e-0a61dfc73ef6"
   },
   "outputs": [
    {
     "name": "stderr",
     "output_type": "stream",
     "text": [
      "[nltk_data] Downloading package punkt to\n",
      "[nltk_data]     C:\\Users\\TONAC\\AppData\\Roaming\\nltk_data...\n",
      "[nltk_data]   Package punkt is already up-to-date!\n",
      "[nltk_data] Downloading package stopwords to\n",
      "[nltk_data]     C:\\Users\\TONAC\\AppData\\Roaming\\nltk_data...\n",
      "[nltk_data]   Package stopwords is already up-to-date!\n",
      "[nltk_data] Downloading package wordnet to\n",
      "[nltk_data]     C:\\Users\\TONAC\\AppData\\Roaming\\nltk_data...\n",
      "[nltk_data]   Package wordnet is already up-to-date!\n"
     ]
    }
   ],
   "source": [
    "import nltk\n",
    "import spacy\n",
    "from nltk.tokenize import word_tokenize, sent_tokenize\n",
    "from nltk.corpus import stopwords\n",
    "from nltk.stem import WordNetLemmatizer\n",
    "from sklearn.feature_extraction.text import CountVectorizer, TfidfVectorizer\n",
    "from sklearn.model_selection import train_test_split\n",
    "from sklearn.naive_bayes import MultinomialNB\n",
    "from sklearn.pipeline import Pipeline\n",
    "from sklearn.metrics import classification_report, confusion_matrix, accuracy_score\n",
    "import tensorflow as tf\n",
    "from tensorflow.keras.preprocessing.text import Tokenizer\n",
    "from tensorflow.keras.preprocessing.sequence import pad_sequences\n",
    "from tensorflow.keras.models import Sequential\n",
    "from tensorflow.keras.layers import Embedding, LSTM, Dense, Dropout\n",
    "import matplotlib.pyplot as plt\n",
    "import pandas as pd\n",
    "import numpy as np\n",
    "import re\n",
    "nltk.download('punkt')\n",
    "nltk.download('stopwords')\n",
    "nltk.download('wordnet')\n",
    "nlp = spacy.load('en_core_web_sm')"
   ]
  },
  {
   "cell_type": "markdown",
   "id": "wbXOyBoN6IMx",
   "metadata": {
    "id": "wbXOyBoN6IMx"
   },
   "source": [
    "## 2. Text Preprocessing\n",
    "\n",
    "Text preprocessing is a crucial step in NLP. It involves cleaning and preparing text data for analysis and modeling. Common preprocessing steps include tokenization, removing stopwords, and lemmatization."
   ]
  },
  {
   "cell_type": "code",
   "execution_count": 5,
   "id": "yuxDavIM6IMy",
   "metadata": {
    "colab": {
     "base_uri": "https://localhost:8080/"
    },
    "id": "yuxDavIM6IMy",
    "outputId": "c3b15480-d33a-4047-a56a-43023d4fe0e8"
   },
   "outputs": [
    {
     "name": "stdout",
     "output_type": "stream",
     "text": [
      "Words: ['Natural', 'language', 'processing', '(', 'NLP', ')', 'is', 'a', 'field', 'of', 'artificial', 'intelligence', 'that', 'gives', 'the', 'machines', 'the', 'ability', 'to', 'read', ',', 'understand', 'and', 'derive', 'meaning', 'from', 'human', 'languages', '.']\n",
      "Sentences: ['Natural language processing (NLP) is a field of artificial intelligence that gives the machines the ability to read, understand and derive meaning from human languages.']\n",
      "Filtered Words: ['Natural', 'language', 'processing', '(', 'NLP', ')', 'field', 'artificial', 'intelligence', 'gives', 'machines', 'ability', 'read', ',', 'understand', 'derive', 'meaning', 'human', 'languages', '.']\n",
      "Lemmatized Words: ['Natural', 'language', 'processing', '(', 'NLP', ')', 'field', 'artificial', 'intelligence', 'give', 'machine', 'ability', 'read', ',', 'understand', 'derive', 'meaning', 'human', 'language', '.']\n"
     ]
    }
   ],
   "source": [
    "# Sample text\n",
    "text = \"Natural language processing (NLP) is a field of artificial intelligence that gives the machines the ability to read, understand and derive meaning from human languages.\"\n",
    "\n",
    "# Tokenization\n",
    "words = word_tokenize(text)\n",
    "sentences = sent_tokenize(text)\n",
    "print(\"Words:\", words)\n",
    "print(\"Sentences:\", sentences)\n",
    "\n",
    "# Remove stopwords\n",
    "stop_words = set(stopwords.words('english'))\n",
    "filtered_words = [word for word in words if word.lower() not in stop_words]\n",
    "print(\"Filtered Words:\", filtered_words)\n",
    "\n",
    "# Lemmatization\n",
    "lemmatizer = WordNetLemmatizer()\n",
    "lemmatized_words = [lemmatizer.lemmatize(word) for word in filtered_words]\n",
    "print(\"Lemmatized Words:\", lemmatized_words)"
   ]
  },
  {
   "cell_type": "markdown",
   "id": "Jdx9QUiR6IMy",
   "metadata": {
    "id": "Jdx9QUiR6IMy"
   },
   "source": [
    "## 3. Feature Extraction\n",
    "\n",
    "Feature extraction transforms text data into numerical representations that machine learning models can understand. Common techniques include Bag of Words (BoW) and Term Frequency-Inverse Document Frequency (TF-IDF)."
   ]
  },
  {
   "cell_type": "code",
   "execution_count": 7,
   "id": "a5P9qtZX6IMy",
   "metadata": {
    "colab": {
     "base_uri": "https://localhost:8080/"
    },
    "id": "a5P9qtZX6IMy",
    "outputId": "ed35f897-574e-4c1b-a663-ae20c87072d5"
   },
   "outputs": [
    {
     "name": "stdout",
     "output_type": "stream",
     "text": [
      "Bag of Words:\n",
      "[[0 0 0 0 0 0 0 0 0 1 0 0 0 1 0 0 0 1 1 0 0 0]\n",
      " [0 1 0 0 0 0 1 0 0 0 1 1 0 0 0 1 1 0 0 0 1 0]\n",
      " [1 0 1 1 0 1 0 0 0 0 0 0 2 0 1 0 1 0 0 0 0 1]\n",
      " [0 0 0 0 1 0 0 1 1 0 0 1 0 0 0 0 0 0 1 1 0 0]]\n",
      "['ai' 'an' 'and' 'are' 'data' 'deep' 'field' 'for' 'great' 'in'\n",
      " 'interesting' 'is' 'learning' 'love' 'machine' 'nlp' 'of' 'programming'\n",
      " 'python' 'science' 'study' 'subfields']\n",
      "TF-IDF:\n",
      "[[0.         0.         0.         0.         0.         0.\n",
      "  0.         0.         0.         0.52547275 0.         0.\n",
      "  0.         0.52547275 0.         0.         0.         0.52547275\n",
      "  0.41428875 0.         0.         0.        ]\n",
      " [0.         0.40021825 0.         0.         0.         0.\n",
      "  0.40021825 0.         0.         0.         0.40021825 0.31553666\n",
      "  0.         0.         0.         0.40021825 0.31553666 0.\n",
      "  0.         0.         0.40021825 0.        ]\n",
      " [0.3068352  0.         0.3068352  0.3068352  0.         0.3068352\n",
      "  0.         0.         0.         0.         0.         0.\n",
      "  0.6136704  0.         0.3068352  0.         0.2419124  0.\n",
      "  0.         0.         0.         0.3068352 ]\n",
      " [0.         0.         0.         0.         0.43671931 0.\n",
      "  0.         0.43671931 0.43671931 0.         0.         0.34431452\n",
      "  0.         0.         0.         0.         0.         0.\n",
      "  0.34431452 0.43671931 0.         0.        ]]\n",
      "['ai' 'an' 'and' 'are' 'data' 'deep' 'field' 'for' 'great' 'in'\n",
      " 'interesting' 'is' 'learning' 'love' 'machine' 'nlp' 'of' 'programming'\n",
      " 'python' 'science' 'study' 'subfields']\n"
     ]
    }
   ],
   "source": [
    "# Sample corpus\n",
    "corpus = [\n",
    "    'I love programming in Python.',\n",
    "    'NLP is an interesting field of study.',\n",
    "    'Machine learning and deep learning are subfields of AI.',\n",
    "    'Python is great for data science.'\n",
    "]\n",
    "\n",
    "# Bag of Words\n",
    "vectorizer = CountVectorizer()\n",
    "X_bow = vectorizer.fit_transform(corpus)\n",
    "print(\"Bag of Words:\")\n",
    "print(X_bow.toarray())\n",
    "print(vectorizer.get_feature_names_out())\n",
    "\n",
    "# TF-IDF\n",
    "tfidf_vectorizer = TfidfVectorizer()\n",
    "X_tfidf = tfidf_vectorizer.fit_transform(corpus)\n",
    "print(\"TF-IDF:\")\n",
    "print(X_tfidf.toarray())\n",
    "print(tfidf_vectorizer.get_feature_names_out())"
   ]
  },
  {
   "cell_type": "markdown",
   "id": "vwNDNSwh6IMz",
   "metadata": {
    "id": "vwNDNSwh6IMz"
   },
   "source": [
    "## 4. Text Classification with Naive Bayes\n",
    "\n",
    "We will use the `20newsgroups` dataset from `sklearn.datasets` to perform text classification with a Naive Bayes classifier."
   ]
  },
  {
   "cell_type": "code",
   "execution_count": 9,
   "id": "L1VdOQ3L6IMz",
   "metadata": {
    "colab": {
     "base_uri": "https://localhost:8080/"
    },
    "id": "L1VdOQ3L6IMz",
    "outputId": "b6fceba9-e979-4286-830b-4518169effa1"
   },
   "outputs": [
    {
     "name": "stdout",
     "output_type": "stream",
     "text": [
      "Accuracy: 0.6928191489361702\n",
      "Confusion Matrix:\n",
      "[[ 24   2   1 148]\n",
      " [  0 173   1  26]\n",
      " [  1   5 149  45]\n",
      " [  0   2   0 175]]\n",
      "Classification Report:\n",
      "              precision    recall  f1-score   support\n",
      "\n",
      "           0       0.96      0.14      0.24       175\n",
      "           1       0.95      0.86      0.91       200\n",
      "           2       0.99      0.74      0.85       200\n",
      "           3       0.44      0.99      0.61       177\n",
      "\n",
      "    accuracy                           0.69       752\n",
      "   macro avg       0.84      0.68      0.65       752\n",
      "weighted avg       0.84      0.69      0.67       752\n",
      "\n"
     ]
    }
   ],
   "source": [
    "from sklearn.datasets import fetch_20newsgroups\n",
    "\n",
    "# Load the dataset\n",
    "newsgroups = fetch_20newsgroups(subset='all', categories=['alt.atheism', 'comp.graphics', 'sci.med', 'soc.religion.christian'], remove=('headers', 'footers', 'quotes'))\n",
    "X, y = newsgroups.data, newsgroups.target\n",
    "\n",
    "# Split the dataset\n",
    "X_train, X_test, y_train, y_test = train_test_split(X, y, test_size=0.2, random_state=42)\n",
    "\n",
    "# Build a pipeline\n",
    "text_clf = Pipeline([\n",
    "    ('tfidf', TfidfVectorizer()),\n",
    "    ('clf', MultinomialNB()),\n",
    "])\n",
    "\n",
    "# Train the model\n",
    "text_clf.fit(X_train, y_train)\n",
    "\n",
    "# Make predictions\n",
    "y_pred = text_clf.predict(X_test)\n",
    "\n",
    "# Evaluate the model\n",
    "print(\"Accuracy:\", accuracy_score(y_test, y_pred))\n",
    "print(\"Confusion Matrix:\")\n",
    "print(confusion_matrix(y_test, y_pred))\n",
    "print(\"Classification Report:\")\n",
    "print(classification_report(y_test, y_pred))"
   ]
  },
  {
   "cell_type": "markdown",
   "id": "LEP8GBpv6IMz",
   "metadata": {
    "id": "LEP8GBpv6IMz"
   },
   "source": [
    "## 5. Text Classification with LSTM\n",
    "\n",
    "We will use the IMDB movie reviews dataset to build a text classification model using an LSTM (Long Short-Term Memory) network."
   ]
  },
  {
   "cell_type": "code",
   "execution_count": 11,
   "id": "z4uJTsuf6IMz",
   "metadata": {
    "colab": {
     "base_uri": "https://localhost:8080/"
    },
    "id": "z4uJTsuf6IMz",
    "outputId": "5e1fa55b-af1e-43aa-9b97-cd13236cbcf8"
   },
   "outputs": [
    {
     "name": "stdout",
     "output_type": "stream",
     "text": [
      "Downloading data from https://storage.googleapis.com/tensorflow/tf-keras-datasets/imdb.npz\n",
      "\u001b[1m17464789/17464789\u001b[0m \u001b[32m━━━━━━━━━━━━━━━━━━━━\u001b[0m\u001b[37m\u001b[0m \u001b[1m4s\u001b[0m 0us/step\n",
      "Epoch 1/10\n"
     ]
    },
    {
     "name": "stderr",
     "output_type": "stream",
     "text": [
      "C:\\Users\\TONAC\\anaconda3\\Lib\\site-packages\\keras\\src\\layers\\core\\embedding.py:90: UserWarning: Argument `input_length` is deprecated. Just remove it.\n",
      "  warnings.warn(\n"
     ]
    },
    {
     "name": "stdout",
     "output_type": "stream",
     "text": [
      "\u001b[1m49/49\u001b[0m \u001b[32m━━━━━━━━━━━━━━━━━━━━\u001b[0m\u001b[37m\u001b[0m \u001b[1m38s\u001b[0m 733ms/step - accuracy: 0.5461 - loss: 0.6815 - val_accuracy: 0.7944 - val_loss: 0.4470\n",
      "Epoch 2/10\n",
      "\u001b[1m49/49\u001b[0m \u001b[32m━━━━━━━━━━━━━━━━━━━━\u001b[0m\u001b[37m\u001b[0m \u001b[1m36s\u001b[0m 744ms/step - accuracy: 0.8458 - loss: 0.3610 - val_accuracy: 0.8600 - val_loss: 0.3150\n",
      "Epoch 3/10\n",
      "\u001b[1m49/49\u001b[0m \u001b[32m━━━━━━━━━━━━━━━━━━━━\u001b[0m\u001b[37m\u001b[0m \u001b[1m36s\u001b[0m 743ms/step - accuracy: 0.9049 - loss: 0.2528 - val_accuracy: 0.8776 - val_loss: 0.2973\n",
      "Epoch 4/10\n",
      "\u001b[1m49/49\u001b[0m \u001b[32m━━━━━━━━━━━━━━━━━━━━\u001b[0m\u001b[37m\u001b[0m \u001b[1m36s\u001b[0m 742ms/step - accuracy: 0.9270 - loss: 0.1946 - val_accuracy: 0.8776 - val_loss: 0.2968\n",
      "Epoch 5/10\n",
      "\u001b[1m49/49\u001b[0m \u001b[32m━━━━━━━━━━━━━━━━━━━━\u001b[0m\u001b[37m\u001b[0m \u001b[1m37s\u001b[0m 747ms/step - accuracy: 0.9530 - loss: 0.1408 - val_accuracy: 0.8731 - val_loss: 0.3523\n",
      "Epoch 6/10\n",
      "\u001b[1m49/49\u001b[0m \u001b[32m━━━━━━━━━━━━━━━━━━━━\u001b[0m\u001b[37m\u001b[0m \u001b[1m37s\u001b[0m 753ms/step - accuracy: 0.9586 - loss: 0.1223 - val_accuracy: 0.8683 - val_loss: 0.3996\n",
      "Epoch 7/10\n",
      "\u001b[1m49/49\u001b[0m \u001b[32m━━━━━━━━━━━━━━━━━━━━\u001b[0m\u001b[37m\u001b[0m \u001b[1m37s\u001b[0m 750ms/step - accuracy: 0.9618 - loss: 0.1176 - val_accuracy: 0.8600 - val_loss: 0.4306\n",
      "Epoch 8/10\n",
      "\u001b[1m49/49\u001b[0m \u001b[32m━━━━━━━━━━━━━━━━━━━━\u001b[0m\u001b[37m\u001b[0m \u001b[1m36s\u001b[0m 740ms/step - accuracy: 0.9721 - loss: 0.0902 - val_accuracy: 0.8620 - val_loss: 0.4061\n",
      "Epoch 9/10\n",
      "\u001b[1m49/49\u001b[0m \u001b[32m━━━━━━━━━━━━━━━━━━━━\u001b[0m\u001b[37m\u001b[0m \u001b[1m35s\u001b[0m 718ms/step - accuracy: 0.9752 - loss: 0.0813 - val_accuracy: 0.8597 - val_loss: 0.4774\n",
      "Epoch 10/10\n",
      "\u001b[1m49/49\u001b[0m \u001b[32m━━━━━━━━━━━━━━━━━━━━\u001b[0m\u001b[37m\u001b[0m \u001b[1m35s\u001b[0m 714ms/step - accuracy: 0.9781 - loss: 0.0737 - val_accuracy: 0.8572 - val_loss: 0.5158\n",
      "\u001b[1m782/782\u001b[0m \u001b[32m━━━━━━━━━━━━━━━━━━━━\u001b[0m\u001b[37m\u001b[0m \u001b[1m24s\u001b[0m 31ms/step - accuracy: 0.8592 - loss: 0.5060\n",
      "Test Loss: 0.5158221125602722\n",
      "Test Accuracy: 0.8571599721908569\n"
     ]
    }
   ],
   "source": [
    "# Load the IMDB dataset\n",
    "imdb = tf.keras.datasets.imdb\n",
    "(train_data, train_labels), (test_data, test_labels) = imdb.load_data(num_words=10000)\n",
    "\n",
    "# Preprocess the data\n",
    "def decode_review(text_ids):\n",
    "    word_index = imdb.get_word_index()\n",
    "    reverse_word_index = dict([(value, key) for (key, value) in word_index.items()])\n",
    "    return ' '.join([reverse_word_index.get(i - 3, '?') for i in text_ids])\n",
    "\n",
    "# Pad sequences\n",
    "train_data = pad_sequences(train_data, maxlen=256)\n",
    "test_data = pad_sequences(test_data, maxlen=256)\n",
    "\n",
    "# Build the model\n",
    "model = Sequential([\n",
    "    Embedding(10000, 16, input_length=256),\n",
    "    LSTM(64),\n",
    "    Dense(64, activation='relu'),\n",
    "    Dense(1, activation='sigmoid')\n",
    "])\n",
    "\n",
    "# Compile the model\n",
    "model.compile(optimizer='adam',\n",
    "              loss='binary_crossentropy',\n",
    "              metrics=['accuracy'])\n",
    "\n",
    "# Train the model\n",
    "history = model.fit(train_data, train_labels, epochs=10, batch_size=512,\n",
    "                    validation_data=(test_data, test_labels), verbose=1)\n",
    "\n",
    "# Evaluate the model\n",
    "results = model.evaluate(test_data, test_labels)\n",
    "print(\"Test Loss:\", results[0])\n",
    "print(\"Test Accuracy:\", results[1])"
   ]
  },
  {
   "cell_type": "markdown",
   "id": "2bsKxigU6IMz",
   "metadata": {
    "id": "2bsKxigU6IMz"
   },
   "source": [
    "## 6. Plot Training and Validation Metrics\n",
    "\n",
    "We will plot the training and validation accuracy and loss over epochs to visualize the performance of our LSTM model."
   ]
  },
  {
   "cell_type": "code",
   "execution_count": 13,
   "id": "1kOBiYQ96IMz",
   "metadata": {
    "colab": {
     "base_uri": "https://localhost:8080/",
     "height": 410
    },
    "id": "1kOBiYQ96IMz",
    "outputId": "1078ec6a-aca1-463a-dfcd-509d0db4da34"
   },
   "outputs": [
    {
     "data": {
      "image/png": "[encoded data removed]",
      "text/plain": [
       "<Figure size 1200x400 with 2 Axes>"
      ]
     },
     "metadata": {},
     "output_type": "display_data"
    }
   ],
   "source": [
    "# Plot training & validation accuracy values\n",
    "plt.figure(figsize=(12, 4))\n",
    "plt.subplot(1, 2, 1)\n",
    "plt.plot(history.history['accuracy'])\n",
    "plt.plot(history.history['val_accuracy'])\n",
    "plt.title('Model accuracy')\n",
    "plt.ylabel('Accuracy')\n",
    "plt.xlabel('Epoch')\n",
    "plt.legend(['Train', 'Validation'], loc='upper left')\n",
    "\n",
    "# Plot training & validation loss values\n",
    "plt.subplot(1, 2, 2)\n",
    "plt.plot(history.history['loss'])\n",
    "plt.plot(history.history['val_loss'])\n",
    "plt.title('Model loss')\n",
    "plt.ylabel('Loss')\n",
    "plt.xlabel('Epoch')\n",
    "plt.legend(['Train', 'Validation'], loc='upper left')\n",
    "\n",
    "plt.show()"
   ]
  },
  {
   "cell_type": "markdown",
   "id": "kntWq7fX6IM0",
   "metadata": {
    "id": "kntWq7fX6IM0"
   },
   "source": [
    "## 7. Exercises\n",
    "\n",
    "1. **Text Preprocessing**: Load a text dataset of your choice, perform tokenization, remove stopwords, and apply lemmatization. Print the processed text.\n",
    "2. **Feature Extraction**: Using the preprocessed text from Exercise 1, create a Bag of Words (BoW) representation and a TF-IDF representation. Compare the two representations.\n",
    "3. **Text Classification with Naive Bayes**: Use the `20newsgroups` dataset to build a text classification model with a Naive Bayes classifier. Evaluate the model and print the accuracy, confusion matrix, and classification report.\n",
    "4. **Text Classification with LSTM**: Use the IMDB movie reviews dataset to build a text classification model using an LSTM network. Evaluate the model and plot the training and validation metrics.\n",
    "\n",
    "### Solutions\n",
    "\n",
    "Solutions to these exercises are provided below."
   ]
  },
  {
   "cell_type": "markdown",
   "id": "dsDu5Zop6IM0",
   "metadata": {
    "id": "dsDu5Zop6IM0"
   },
   "source": [
    "### Solution to Exercise 1: Text Preprocessing"
   ]
  },
  {
   "cell_type": "code",
   "execution_count": 16,
   "id": "Xhn5CpSQ6IM0",
   "metadata": {
    "colab": {
     "base_uri": "https://localhost:8080/"
    },
    "id": "Xhn5CpSQ6IM0",
    "outputId": "6f2eda1e-26a9-4087-9447-c7fed7f72ea4"
   },
   "outputs": [
    {
     "name": "stdout",
     "output_type": "stream",
     "text": [
      "Processed Text: ['Natural language processing fascinating field .', 'combine linguistics , computer science , artificial intelligence .', 'NLP enables computer understand human language .']\n"
     ]
    }
   ],
   "source": [
    "# Load a text dataset\n",
    "sample_text = [\n",
    "    \"Natural language processing is a fascinating field.\",\n",
    "    \"It combines linguistics, computer science, and artificial intelligence.\",\n",
    "    \"NLP enables computers to understand human language.\"\n",
    "]\n",
    "\n",
    "# Preprocess the text\n",
    "processed_text = []\n",
    "lemmatizer = WordNetLemmatizer()\n",
    "for text in sample_text:\n",
    "    words = word_tokenize(text)\n",
    "    filtered_words = [word for word in words if word.lower() not in stop_words]\n",
    "    lemmatized_words = [lemmatizer.lemmatize(word) for word in filtered_words]\n",
    "    processed_text.append(' '.join(lemmatized_words))\n",
    "\n",
    "print(\"Processed Text:\", processed_text)"
   ]
  },
  {
   "cell_type": "markdown",
   "id": "bWwklCKq6IM0",
   "metadata": {
    "id": "bWwklCKq6IM0"
   },
   "source": [
    "### Solution to Exercise 2: Feature Extraction"
   ]
  },
  {
   "cell_type": "code",
   "execution_count": 18,
   "id": "xJYYYlNp6IM0",
   "metadata": {
    "colab": {
     "base_uri": "https://localhost:8080/"
    },
    "id": "xJYYYlNp6IM0",
    "outputId": "af838f63-fb39-45b2-d687-091d1573d8a4"
   },
   "outputs": [
    {
     "name": "stdout",
     "output_type": "stream",
     "text": [
      "Bag of Words:\n",
      "[[0 0 0 0 1 1 0 0 1 0 1 0 1 0 0]\n",
      " [1 1 1 0 0 0 0 1 0 1 0 0 0 1 0]\n",
      " [0 0 1 1 0 0 1 0 1 0 0 1 0 0 1]]\n",
      "['artificial' 'combine' 'computer' 'enables' 'fascinating' 'field' 'human'\n",
      " 'intelligence' 'language' 'linguistics' 'natural' 'nlp' 'processing'\n",
      " 'science' 'understand']\n",
      "TF-IDF:\n",
      "[[0.         0.         0.         0.         0.46735098 0.46735098\n",
      "  0.         0.         0.35543247 0.         0.46735098 0.\n",
      "  0.46735098 0.         0.        ]\n",
      " [0.42339448 0.42339448 0.32200242 0.         0.         0.\n",
      "  0.         0.42339448 0.         0.42339448 0.         0.\n",
      "  0.         0.42339448 0.        ]\n",
      " [0.         0.         0.3349067  0.44036207 0.         0.\n",
      "  0.44036207 0.         0.3349067  0.         0.         0.44036207\n",
      "  0.         0.         0.44036207]]\n",
      "['artificial' 'combine' 'computer' 'enables' 'fascinating' 'field' 'human'\n",
      " 'intelligence' 'language' 'linguistics' 'natural' 'nlp' 'processing'\n",
      " 'science' 'understand']\n"
     ]
    }
   ],
   "source": [
    "# Bag of Words\n",
    "vectorizer = CountVectorizer()\n",
    "X_bow = vectorizer.fit_transform(processed_text)\n",
    "print(\"Bag of Words:\")\n",
    "print(X_bow.toarray())\n",
    "print(vectorizer.get_feature_names_out())\n",
    "\n",
    "# TF-IDF\n",
    "tfidf_vectorizer = TfidfVectorizer()\n",
    "X_tfidf = tfidf_vectorizer.fit_transform(processed_text)\n",
    "print(\"TF-IDF:\")\n",
    "print(X_tfidf.toarray())\n",
    "print(tfidf_vectorizer.get_feature_names_out())"
   ]
  },
  {
   "cell_type": "markdown",
   "id": "BiHiAFEs6IM0",
   "metadata": {
    "id": "BiHiAFEs6IM0"
   },
   "source": [
    "### Solution to Exercise 3: Text Classification with Naive Bayes"
   ]
  },
  {
   "cell_type": "code",
   "execution_count": 20,
   "id": "FFfh_OCX6IM0",
   "metadata": {
    "colab": {
     "base_uri": "https://localhost:8080/"
    },
    "id": "FFfh_OCX6IM0",
    "outputId": "ff79ba26-7503-49a5-b0a6-a1022f9bb369"
   },
   "outputs": [
    {
     "name": "stdout",
     "output_type": "stream",
     "text": [
      "Accuracy: 0.6928191489361702\n",
      "Confusion Matrix:\n",
      "[[ 24   2   1 148]\n",
      " [  0 173   1  26]\n",
      " [  1   5 149  45]\n",
      " [  0   2   0 175]]\n",
      "Classification Report:\n",
      "              precision    recall  f1-score   support\n",
      "\n",
      "           0       0.96      0.14      0.24       175\n",
      "           1       0.95      0.86      0.91       200\n",
      "           2       0.99      0.74      0.85       200\n",
      "           3       0.44      0.99      0.61       177\n",
      "\n",
      "    accuracy                           0.69       752\n",
      "   macro avg       0.84      0.68      0.65       752\n",
      "weighted avg       0.84      0.69      0.67       752\n",
      "\n"
     ]
    }
   ],
   "source": [
    "# Load the dataset\n",
    "newsgroups = fetch_20newsgroups(subset='all', categories=['alt.atheism', 'comp.graphics', 'sci.med', 'soc.religion.christian'], remove=('headers', 'footers', 'quotes'))\n",
    "X, y = newsgroups.data, newsgroups.target\n",
    "\n",
    "# Split the dataset\n",
    "X_train, X_test, y_train, y_test = train_test_split(X, y, test_size=0.2, random_state=42)\n",
    "\n",
    "# Build a pipeline\n",
    "text_clf = Pipeline([\n",
    "    ('tfidf', TfidfVectorizer()),\n",
    "    ('clf', MultinomialNB()),\n",
    "])\n",
    "\n",
    "# Train the model\n",
    "text_clf.fit(X_train, y_train)\n",
    "\n",
    "# Make predictions\n",
    "y_pred = text_clf.predict(X_test)\n",
    "\n",
    "# Evaluate the model\n",
    "print(\"Accuracy:\", accuracy_score(y_test, y_pred))\n",
    "print(\"Confusion Matrix:\")\n",
    "print(confusion_matrix(y_test, y_pred))\n",
    "print(\"Classification Report:\")\n",
    "print(classification_report(y_test, y_pred))"
   ]
  },
  {
   "cell_type": "markdown",
   "id": "BH9CJQPW6IM0",
   "metadata": {
    "id": "BH9CJQPW6IM0"
   },
   "source": [
    "### Solution to Exercise 4: Text Classification with LSTM"
   ]
  },
  {
   "cell_type": "code",
   "execution_count": 22,
   "id": "LPbXFdr96IM1",
   "metadata": {
    "id": "LPbXFdr96IM1",
    "tags": []
   },
   "outputs": [
    {
     "name": "stdout",
     "output_type": "stream",
     "text": [
      "Epoch 1/10\n"
     ]
    },
    {
     "name": "stderr",
     "output_type": "stream",
     "text": [
      "C:\\Users\\TONAC\\anaconda3\\Lib\\site-packages\\keras\\src\\layers\\core\\embedding.py:90: UserWarning: Argument `input_length` is deprecated. Just remove it.\n",
      "  warnings.warn(\n"
     ]
    },
    {
     "name": "stdout",
     "output_type": "stream",
     "text": [
      "\u001b[1m49/49\u001b[0m \u001b[32m━━━━━━━━━━━━━━━━━━━━\u001b[0m\u001b[37m\u001b[0m \u001b[1m35s\u001b[0m 683ms/step - accuracy: 0.5501 - loss: 0.6914 - val_accuracy: 0.6668 - val_loss: 0.6515\n",
      "Epoch 2/10\n",
      "\u001b[1m49/49\u001b[0m \u001b[32m━━━━━━━━━━━━━━━━━━━━\u001b[0m\u001b[37m\u001b[0m \u001b[1m34s\u001b[0m 691ms/step - accuracy: 0.7390 - loss: 0.5796 - val_accuracy: 0.8466 - val_loss: 0.3686\n",
      "Epoch 3/10\n",
      "\u001b[1m49/49\u001b[0m \u001b[32m━━━━━━━━━━━━━━━━━━━━\u001b[0m\u001b[37m\u001b[0m \u001b[1m33s\u001b[0m 682ms/step - accuracy: 0.8741 - loss: 0.3060 - val_accuracy: 0.8658 - val_loss: 0.3144\n",
      "Epoch 4/10\n",
      "\u001b[1m49/49\u001b[0m \u001b[32m━━━━━━━━━━━━━━━━━━━━\u001b[0m\u001b[37m\u001b[0m \u001b[1m33s\u001b[0m 680ms/step - accuracy: 0.9163 - loss: 0.2213 - val_accuracy: 0.8739 - val_loss: 0.3001\n",
      "Epoch 5/10\n",
      "\u001b[1m49/49\u001b[0m \u001b[32m━━━━━━━━━━━━━━━━━━━━\u001b[0m\u001b[37m\u001b[0m \u001b[1m33s\u001b[0m 687ms/step - accuracy: 0.9372 - loss: 0.1742 - val_accuracy: 0.8731 - val_loss: 0.3174\n",
      "Epoch 6/10\n",
      "\u001b[1m49/49\u001b[0m \u001b[32m━━━━━━━━━━━━━━━━━━━━\u001b[0m\u001b[37m\u001b[0m \u001b[1m33s\u001b[0m 679ms/step - accuracy: 0.9537 - loss: 0.1392 - val_accuracy: 0.8695 - val_loss: 0.3350\n",
      "Epoch 7/10\n",
      "\u001b[1m49/49\u001b[0m \u001b[32m━━━━━━━━━━━━━━━━━━━━\u001b[0m\u001b[37m\u001b[0m \u001b[1m33s\u001b[0m 676ms/step - accuracy: 0.9604 - loss: 0.1206 - val_accuracy: 0.8660 - val_loss: 0.4124\n",
      "Epoch 8/10\n",
      "\u001b[1m49/49\u001b[0m \u001b[32m━━━━━━━━━━━━━━━━━━━━\u001b[0m\u001b[37m\u001b[0m \u001b[1m33s\u001b[0m 683ms/step - accuracy: 0.9668 - loss: 0.1049 - val_accuracy: 0.8654 - val_loss: 0.4324\n",
      "Epoch 9/10\n",
      "\u001b[1m49/49\u001b[0m \u001b[32m━━━━━━━━━━━━━━━━━━━━\u001b[0m\u001b[37m\u001b[0m \u001b[1m34s\u001b[0m 704ms/step - accuracy: 0.9728 - loss: 0.0886 - val_accuracy: 0.8575 - val_loss: 0.4551\n",
      "Epoch 10/10\n",
      "\u001b[1m49/49\u001b[0m \u001b[32m━━━━━━━━━━━━━━━━━━━━\u001b[0m\u001b[37m\u001b[0m \u001b[1m33s\u001b[0m 682ms/step - accuracy: 0.9693 - loss: 0.0901 - val_accuracy: 0.8571 - val_loss: 0.4493\n",
      "\u001b[1m782/782\u001b[0m \u001b[32m━━━━━━━━━━━━━━━━━━━━\u001b[0m\u001b[37m\u001b[0m \u001b[1m25s\u001b[0m 31ms/step - accuracy: 0.8584 - loss: 0.4446\n",
      "Test Loss: 0.4492839574813843\n",
      "Test Accuracy: 0.8570799827575684\n"
     ]
    },
    {
     "data": {
      "image/png": "[encoded data removed]",
      "text/plain": [
       "<Figure size 1200x400 with 2 Axes>"
      ]
     },
     "metadata": {},
     "output_type": "display_data"
    }
   ],
   "source": [
    "# Load the IMDB dataset\n",
    "imdb = tf.keras.datasets.imdb\n",
    "(train_data, train_labels), (test_data, test_labels) = imdb.load_data(num_words=10000)\n",
    "\n",
    "# Pad sequences\n",
    "train_data = pad_sequences(train_data, maxlen=256)\n",
    "test_data = pad_sequences(test_data, maxlen=256)\n",
    "\n",
    "# Build the model\n",
    "model = Sequential([\n",
    "    Embedding(10000, 16, input_length=256),\n",
    "    LSTM(64),\n",
    "    Dense(64, activation='relu'),\n",
    "    Dense(1, activation='sigmoid')\n",
    "])\n",
    "\n",
    "# Compile the model\n",
    "model.compile(optimizer='adam',\n",
    "              loss='binary_crossentropy',\n",
    "              metrics=['accuracy'])\n",
    "\n",
    "# Train the model\n",
    "history = model.fit(train_data, train_labels, epochs=10, batch_size=512,\n",
    "                    validation_data=(test_data, test_labels), verbose=1)\n",
    "\n",
    "# Evaluate the model\n",
    "results = model.evaluate(test_data, test_labels)\n",
    "print(\"Test Loss:\", results[0])\n",
    "print(\"Test Accuracy:\", results[1])\n",
    "\n",
    "# Plot training & validation accuracy values\n",
    "plt.figure(figsize=(12, 4))\n",
    "plt.subplot(1, 2, 1)\n",
    "plt.plot(history.history['accuracy'])\n",
    "plt.plot(history.history['val_accuracy'])\n",
    "plt.title('Model accuracy')\n",
    "plt.ylabel('Accuracy')\n",
    "plt.xlabel('Epoch')\n",
    "plt.legend(['Train', 'Validation'], loc='upper left')\n",
    "\n",
    "# Plot training & validation loss values\n",
    "plt.subplot(1, 2, 2)\n",
    "plt.plot(history.history['loss'])\n",
    "plt.plot(history.history['val_loss'])\n",
    "plt.title('Model loss')\n",
    "plt.ylabel('Loss')\n",
    "plt.xlabel('Epoch')\n",
    "plt.legend(['Train', 'Validation'], loc='upper left')\n",
    "\n",
    "plt.show()"
   ]
  }
 ],
 "metadata": {
  "colab": {
   "provenance": []
  },
  "kernelspec": {
   "display_name": "Python 3 (ipykernel)",
   "language": "python",
   "name": "python3"
  },
  "language_info": {
   "codemirror_mode": {
    "name": "ipython",
    "version": 3
   },
   "file_extension": ".py",
   "mimetype": "text/x-python",
   "name": "python",
   "nbconvert_exporter": "python",
   "pygments_lexer": "ipython3",
   "version": "3.11.9"
  }
 },
 "nbformat": 4,
 "nbformat_minor": 5
}
