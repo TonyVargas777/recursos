{
 "cells": [
  {
   "cell_type": "markdown",
   "id": "d46c8e32-6381-44b2-a522-238359b0606c",
   "metadata": {},
   "source": [
    "# Spark SQL with pySpark"
   ]
  },
  {
   "cell_type": "markdown",
   "id": "e355437c-f3b8-4e13-8c6f-7a4203959afc",
   "metadata": {},
   "source": [
    "Answer the following questions"
   ]
  },
  {
   "cell_type": "code",
   "execution_count": 15,
   "id": "9a0e2c1f-1fea-493e-872f-5a4fdf691019",
   "metadata": {},
   "outputs": [],
   "source": [
    "from pyspark.sql import SparkSession\n",
    "from pyspark.sql.functions import *\n",
    "from pyspark.sql import Row, Window\n",
    "from pyspark.sql.types import IntegerType"
   ]
  },
  {
   "cell_type": "code",
   "execution_count": 16,
   "id": "7099a616-fe1e-48b8-bfb8-d85be20a045a",
   "metadata": {},
   "outputs": [],
   "source": [
    "spark = (\n",
    "    SparkSession\n",
    "    .builder\n",
    "    .master(\"local\")\n",
    "    .config(\"spark.sql.autoBroadcastJoinThreshold\", -1)\n",
    "    .config(\"spark.executor.memory\", \"3g\")\n",
    "    .appName(\"Exercise1\")\n",
    "    .getOrCreate()\n",
    ")"
   ]
  },
  {
   "cell_type": "code",
   "execution_count": 17,
   "id": "4f0ffc3a-b882-4a64-86e0-f6ff05b293eb",
   "metadata": {},
   "outputs": [],
   "source": [
    "# Read the source tables\n",
    "products_table = spark.read.parquet(\"./data/products_parquet\")\n",
    "sales_table    = spark.read.parquet(\"./data/sales_parquet\")\n",
    "sellers_table  = spark.read.parquet(\"./data/sellers_parquet\")"
   ]
  },
  {
   "cell_type": "code",
   "execution_count": 4,
   "id": "efe98e09-7ca8-423f-a1ae-e199d7975c5b",
   "metadata": {
    "scrolled": true
   },
   "outputs": [
    {
     "name": "stdout",
     "output_type": "stream",
     "text": [
      "root\n",
      " |-- product_id: string (nullable = true)\n",
      " |-- product_name: string (nullable = true)\n",
      " |-- price: string (nullable = true)\n",
      "\n",
      "root\n",
      " |-- order_id: string (nullable = true)\n",
      " |-- product_id: string (nullable = true)\n",
      " |-- seller_id: string (nullable = true)\n",
      " |-- date: string (nullable = true)\n",
      " |-- num_pieces_sold: string (nullable = true)\n",
      " |-- bill_raw_text: string (nullable = true)\n",
      "\n",
      "root\n",
      " |-- seller_id: string (nullable = true)\n",
      " |-- seller_name: string (nullable = true)\n",
      " |-- daily_target: string (nullable = true)\n",
      "\n"
     ]
    }
   ],
   "source": [
    "products_table.printSchema()\n",
    "sales_table.printSchema()\n",
    "sellers_table.printSchema()"
   ]
  },
  {
   "cell_type": "code",
   "execution_count": 18,
   "id": "bd7ec51b-713f-4ce7-b1de-28c500ad9a4b",
   "metadata": {},
   "outputs": [],
   "source": [
    "# Convertir las columnas numéricas a tipos de datos adecuados\n",
    "sales_table = sales_table.withColumn(\"num_pieces_sold\", col(\"num_pieces_sold\").cast(\"int\"))\n",
    "products_table = products_table.withColumn(\"price\", col(\"price\").cast(\"float\"))\n",
    "sellers_table = sellers_table.withColumn(\"daily_target\", col(\"daily_target\").cast(\"float\"))\n"
   ]
  },
  {
   "cell_type": "markdown",
   "id": "ea9077cd-ac02-4c57-aa58-3e35efe4225a",
   "metadata": {},
   "source": [
    "# Data study"
   ]
  },
  {
   "cell_type": "markdown",
   "id": "39ff0eec-e5a4-491b-a893-d0e956370373",
   "metadata": {},
   "source": [
    "For each seller find the average performance as a % of their daily target amount"
   ]
  },
  {
   "cell_type": "code",
   "execution_count": 6,
   "id": "fd67a045-5b67-40af-b95f-565ab19cfe2d",
   "metadata": {},
   "outputs": [],
   "source": [
    "# Unir las tablas \n",
    "sales_with_price = sales_table.join(products_table, \"product_id\")"
   ]
  },
  {
   "cell_type": "code",
   "execution_count": 7,
   "id": "9c76f9b9-e6f7-45f6-8bfb-c9b6fd1aba72",
   "metadata": {},
   "outputs": [],
   "source": [
    "# total vendido por cada vendedor cada día\n",
    "daily_sales = sales_with_price.withColumn(\"total_sale\", col(\"num_pieces_sold\") * col(\"price\")) \\\n",
    "    .groupBy(\"seller_id\", \"date\").agg(sum(\"total_sale\").alias(\"daily_total_sale\"))"
   ]
  },
  {
   "cell_type": "code",
   "execution_count": 9,
   "id": "a41bb1c3-0ab4-49a5-8646-67c92b17c8c4",
   "metadata": {},
   "outputs": [],
   "source": [
    "# rendimiento diario en porcentaje \n",
    "daily_performance = daily_sales.join(sellers_table, \"seller_id\") \\\n",
    "    .withColumn(\"performance_percent\", (col(\"daily_total_sale\") / col(\"daily_target\")) * 100)"
   ]
  },
  {
   "cell_type": "code",
   "execution_count": 10,
   "id": "8756564e-98da-4781-8f73-b789cd79c4ae",
   "metadata": {},
   "outputs": [
    {
     "name": "stdout",
     "output_type": "stream",
     "text": [
      "+---------+---------------------------+\n",
      "|seller_id|average_performance_percent|\n",
      "+---------+---------------------------+\n",
      "|        1|                     212.23|\n",
      "|        2|                      72.97|\n",
      "|        3|                     169.68|\n",
      "|        4|                      35.75|\n",
      "|        5|                      45.66|\n",
      "|        6|                      52.91|\n",
      "|        7|                       28.1|\n",
      "|        8|                     102.76|\n",
      "|        9|                      40.81|\n",
      "+---------+---------------------------+\n",
      "\n"
     ]
    }
   ],
   "source": [
    "# rendimiento promedio \n",
    "average_performance = daily_performance.groupBy(\"seller_id\") \\\n",
    "    .agg(round(avg(\"performance_percent\"),2).alias(\"average_performance_percent\"))\n",
    "\n",
    "average_performance.show()"
   ]
  },
  {
   "cell_type": "code",
   "execution_count": 19,
   "id": "0a226b09-cd96-4543-a6fc-4ee7e3f3fef3",
   "metadata": {},
   "outputs": [
    {
     "name": "stdout",
     "output_type": "stream",
     "text": [
      "+---------+---------------------------+\n",
      "|seller_id|average_performance_percent|\n",
      "+---------+---------------------------+\n",
      "|        1|                     212.23|\n",
      "|        2|                      72.97|\n",
      "|        3|                     169.68|\n",
      "|        4|                      35.75|\n",
      "|        5|                      45.66|\n",
      "|        6|                      52.91|\n",
      "|        7|                       28.1|\n",
      "|        8|                     102.76|\n",
      "|        9|                      40.81|\n",
      "+---------+---------------------------+\n",
      "\n"
     ]
    }
   ],
   "source": [
    "# Estilo Sol\n",
    "\n",
    "(\n",
    "    sales_table\n",
    "    .join(sellers_table, on='seller_id', how='inner')\n",
    "    .join(products_table, on='product_id', how='inner')\n",
    "    .withColumn('total_sale', col('num_pieces_sold') * col('price'))\n",
    "    .groupby(['seller_id'])\n",
    "    .agg(\n",
    "        sum(\"total_sale\").alias(\"daily_total_sale\"),\n",
    "        first('daily_target').alias('daily_target')\n",
    "    )\n",
    "    .withColumn(\"performance_percent\", (col(\"daily_total_sale\") / col(\"daily_target\")) * 10)\n",
    "    .groupby('seller_id')    \n",
    "    .agg(round(avg(\"performance_percent\"),2).alias(\"average_performance_percent\"))\n",
    "    .orderBy('seller_id')\n",
    "    .show()\n",
    ")"
   ]
  },
  {
   "cell_type": "markdown",
   "id": "8f08305b-9f05-410a-8bbf-7fe74b22087b",
   "metadata": {},
   "source": [
    "|seller_id|avg_daily_percentage|\n",
    "|--------:|--------------------|\n",
    "|        1|              212.22|\n",
    "|        2|               72.99|\n",
    "|        3|              169.68|\n",
    "|        4|               35.75|\n",
    "|        5|               45.66|\n",
    "|        6|               52.91|\n",
    "|        7|                28.1|\n",
    "|        8|              102.76|\n",
    "|        9|               40.81|"
   ]
  },
  {
   "cell_type": "markdown",
   "id": "257efa49-2742-4c60-bac2-c3a12a9493b3",
   "metadata": {},
   "source": [
    "Find out how many sellers are not making their daily goal for every day."
   ]
  },
  {
   "cell_type": "code",
   "execution_count": 11,
   "id": "a76f2141-f140-486e-b9f2-dde25df9642d",
   "metadata": {},
   "outputs": [
    {
     "name": "stdout",
     "output_type": "stream",
     "text": [
      "+-----------+----------+----------------+------------+\n",
      "|seller_name|      date|daily_total_sale|daily_target|\n",
      "+-----------+----------+----------------+------------+\n",
      "|   seller_2|2020-07-01|        518119.0|    754188.0|\n",
      "|   seller_2|2020-07-02|        512012.0|    754188.0|\n",
      "|   seller_2|2020-07-03|        525180.0|    754188.0|\n",
      "|   seller_2|2020-07-04|        617840.0|    754188.0|\n",
      "|   seller_2|2020-07-05|        508774.0|    754188.0|\n",
      "|   seller_2|2020-07-06|        589736.0|    754188.0|\n",
      "|   seller_2|2020-07-07|        635401.0|    754188.0|\n",
      "|   seller_2|2020-07-08|        604797.0|    754188.0|\n",
      "|   seller_2|2020-07-09|        503370.0|    754188.0|\n",
      "|   seller_2|2020-07-10|        487760.0|    754188.0|\n",
      "|   seller_4|2020-07-01|        549595.0|   1532808.0|\n",
      "|   seller_4|2020-07-02|        512200.0|   1532808.0|\n",
      "|   seller_4|2020-07-03|        627174.0|   1532808.0|\n",
      "|   seller_4|2020-07-04|        519878.0|   1532808.0|\n",
      "|   seller_4|2020-07-05|        486912.0|   1532808.0|\n",
      "|   seller_4|2020-07-06|        563439.0|   1532808.0|\n",
      "|   seller_4|2020-07-07|        531202.0|   1532808.0|\n",
      "|   seller_4|2020-07-08|        584587.0|   1532808.0|\n",
      "|   seller_4|2020-07-09|        508752.0|   1532808.0|\n",
      "|   seller_4|2020-07-10|        596303.0|   1532808.0|\n",
      "+-----------+----------+----------------+------------+\n",
      "only showing top 20 rows\n",
      "\n"
     ]
    }
   ],
   "source": [
    "# Unir las tablas \n",
    "sales_with_price = sales_table.join(products_table, \"product_id\")\n",
    "\n",
    "# total vendido por cada vendedor cada día\n",
    "daily_sales = sales_with_price.withColumn(\"total_sale\", col(\"num_pieces_sold\") * col(\"price\")) \\\n",
    "    .groupBy(\"seller_id\", \"date\").agg(round(sum(\"total_sale\"), 2).alias(\"daily_total_sale\"))\n",
    "\n",
    "# Unir tabla de vendedores + daily_target y vendedor\n",
    "daily_sales = daily_sales.join(sellers_table, \"seller_id\")\n",
    "\n",
    "# Seleccionar las columnas necesarias\n",
    "daily_sales = daily_sales.select(\"seller_name\", \"date\", \"daily_total_sale\", \"daily_target\")\n",
    "\n",
    "# Filtrar rendimiento diario es menor que el objetivo diario\n",
    "underperforming_sellers = daily_sales.filter(col(\"daily_total_sale\") < col(\"daily_target\"))\n",
    "\n",
    "# Mostrar \n",
    "underperforming_sellers.orderBy(\"seller_name\", \"date\").show()\n"
   ]
  },
  {
   "cell_type": "markdown",
   "id": "a1b04963-259b-4305-8119-7eac1841df16",
   "metadata": {},
   "source": [
    "only showing top 20 rows:\n",
    "\n",
    "|seller_name|      date|sellers_daily_profit|daily_target|\n",
    "|----------:|----------|--------------------|------------|\n",
    "|   seller_2|2020-07-01|            518119.0|      754188|\n",
    "|   seller_2|2020-07-02|            512012.0|      754188|\n",
    "|   seller_2|2020-07-03|            525180.0|      754188|\n",
    "|   seller_2|2020-07-04|            617840.0|      754188|\n",
    "|   seller_2|2020-07-05|            508774.0|      754188|\n",
    "|   seller_2|2020-07-06|            589736.0|      754188|\n",
    "|   seller_2|2020-07-07|            635401.0|      754188|\n",
    "|   seller_2|2020-07-08|            604797.0|      754188|\n",
    "|   seller_2|2020-07-09|            503370.0|      754188|\n",
    "|   seller_2|2020-07-10|            487760.0|      754188|\n",
    "|   seller_4|2020-07-01|            549595.0|     1532808|\n",
    "|   seller_4|2020-07-02|            512200.0|     1532808|\n",
    "|   seller_4|2020-07-03|            627174.0|     1532808|\n",
    "|   seller_4|2020-07-04|            519878.0|     1532808|\n",
    "|   seller_4|2020-07-05|            486912.0|     1532808|\n",
    "|   seller_4|2020-07-06|            563439.0|     1532808|\n",
    "|   seller_4|2020-07-07|            531202.0|     1532808|\n",
    "|   seller_4|2020-07-08|            584587.0|     1532808|\n",
    "|   seller_4|2020-07-09|            508752.0|     1532808|\n",
    "|   seller_4|2020-07-10|            596303.0|     1532808|"
   ]
  },
  {
   "cell_type": "code",
   "execution_count": 26,
   "id": "4f933d5e-9817-4224-bed7-34c7db8e9d94",
   "metadata": {},
   "outputs": [
    {
     "name": "stdout",
     "output_type": "stream",
     "text": [
      "+---------+----------+-------------+------------+\n",
      "|seller_id|      date|sellers_daily|daily_target|\n",
      "+---------+----------+-------------+------------+\n",
      "|        2|2020-07-01|     518119.0|    754188.0|\n",
      "|        2|2020-07-02|     512012.0|    754188.0|\n",
      "|        2|2020-07-03|     525180.0|    754188.0|\n",
      "|        2|2020-07-04|     617840.0|    754188.0|\n",
      "|        2|2020-07-05|     508774.0|    754188.0|\n",
      "|        2|2020-07-06|     589736.0|    754188.0|\n",
      "|        2|2020-07-07|     635401.0|    754188.0|\n",
      "|        2|2020-07-08|     604797.0|    754188.0|\n",
      "|        2|2020-07-09|     503370.0|    754188.0|\n",
      "|        2|2020-07-10|     487760.0|    754188.0|\n",
      "|        4|2020-07-01|     549595.0|   1532808.0|\n",
      "|        4|2020-07-02|     512200.0|   1532808.0|\n",
      "|        4|2020-07-03|     627174.0|   1532808.0|\n",
      "|        4|2020-07-04|     519878.0|   1532808.0|\n",
      "|        4|2020-07-05|     486912.0|   1532808.0|\n",
      "|        4|2020-07-06|     563439.0|   1532808.0|\n",
      "|        4|2020-07-07|     531202.0|   1532808.0|\n",
      "|        4|2020-07-08|     584587.0|   1532808.0|\n",
      "|        4|2020-07-09|     508752.0|   1532808.0|\n",
      "|        4|2020-07-10|     596303.0|   1532808.0|\n",
      "+---------+----------+-------------+------------+\n",
      "only showing top 20 rows\n",
      "\n"
     ]
    }
   ],
   "source": [
    "# Estilo Sol\n",
    "(\n",
    "    sales_table\n",
    "    .join(sellers_table, on='seller_id', how='inner')\n",
    "    .join(products_table, on='product_id', how='inner')\n",
    "    .withColumn('total', (col('num_pieces_sold')*col('price')))\n",
    "    .groupby(['seller_id','date'])\n",
    "    .agg(\n",
    "        sum('total').alias('sellers_daily'),\n",
    "        first('daily_target').alias('daily_target')\n",
    "    )\n",
    "    .filter(col(\"sellers_daily\") < col(\"daily_target\"))\n",
    "    .orderBy(['seller_id','date'])\n",
    "    \n",
    "    .show()\n",
    ")    \n"
   ]
  },
  {
   "cell_type": "markdown",
   "id": "d416ebf6-dbac-4a60-822b-ec1c919e611a",
   "metadata": {},
   "source": [
    "What sellers have the biggest diffference between the day they performed the best and the day they performed the worst?"
   ]
  },
  {
   "cell_type": "code",
   "execution_count": 27,
   "id": "6e198b43-ab14-483e-b8f7-eee3f44c8611",
   "metadata": {},
   "outputs": [],
   "source": [
    "# Calcular el rendimiento máximo y mínimo para cada vendedor\n",
    "performance_stats = daily_performance.groupBy(\"seller_id\") \\\n",
    "    .agg(\n",
    "        round(expr(\"min(performance_percent)\"),2).alias(\"min_performance\"),\n",
    "        round(expr(\"max(performance_percent)\"),2).alias(\"max_performance\")\n",
    "        \n",
    "    )"
   ]
  },
  {
   "cell_type": "code",
   "execution_count": 28,
   "id": "ec8dc8fd-f728-4158-be0a-11aa3a98257e",
   "metadata": {},
   "outputs": [],
   "source": [
    "# Calcular la diferencia entre el mejor y el peor día de rendimiento\n",
    "performance_diff = performance_stats.withColumn(\"performance_diff\", \n",
    "    round(col(\"max_performance\") - col(\"min_performance\"), 2))"
   ]
  },
  {
   "cell_type": "code",
   "execution_count": 29,
   "id": "9eb957cf-1a57-440e-a72f-554da04510e4",
   "metadata": {},
   "outputs": [
    {
     "name": "stdout",
     "output_type": "stream",
     "text": [
      "+---------+---------------+---------------+----------------+\n",
      "|seller_id|min_performance|max_performance|performance_diff|\n",
      "+---------+---------------+---------------+----------------+\n",
      "|        7|          23.43|           31.3|            7.87|\n",
      "|        4|          31.77|          40.92|            9.15|\n",
      "|        6|          46.13|          57.49|           11.36|\n",
      "|        9|          32.52|          46.83|           14.31|\n",
      "|        5|          37.56|          52.02|           14.46|\n",
      "|        2|          64.67|          84.25|           19.58|\n",
      "|        8|          87.55|         114.94|           27.39|\n",
      "|        1|         193.52|          227.6|           34.08|\n",
      "|        3|         145.56|         197.62|           52.06|\n",
      "+---------+---------------+---------------+----------------+\n",
      "\n"
     ]
    }
   ],
   "source": [
    "# Encontrar los vendedores con la mayor diferencia\n",
    "max_performance = performance_diff.orderBy(col(\"performance_diff\").asc())\n",
    "\n",
    "max_performance.show()"
   ]
  },
  {
   "cell_type": "markdown",
   "id": "81a8b2ed-b187-45ae-9ca4-3a122c6d3556",
   "metadata": {},
   "source": [
    "|seller_id|min_daily_percentage|max_daily_percentage|min_max_difference|\n",
    "|--------:|--------------------|--------------------|------------------|\n",
    "|        7|               23.43|                31.3|              7.87|\n",
    "|        4|               31.77|               40.92|              9.15|\n",
    "|        6|               46.13|               57.49|             11.36|\n",
    "|        9|               32.52|               46.83|             14.31|\n",
    "|        5|               37.56|               52.02|             14.46|\n",
    "|        2|               64.67|               84.25|             19.58|\n",
    "|        8|               87.55|              114.94|             27.39|\n",
    "|        1|              193.52|               227.6|             34.08|\n",
    "|        3|              145.56|              197.62|             52.06|"
   ]
  },
  {
   "cell_type": "code",
   "execution_count": 73,
   "id": "264103e4-043d-4bec-8710-279d5303f04b",
   "metadata": {},
   "outputs": [
    {
     "name": "stdout",
     "output_type": "stream",
     "text": [
      "+---------+---------------+---------------+------------------+\n",
      "|seller_id|min_performance|max_performance|min_max_difference|\n",
      "+---------+---------------+---------------+------------------+\n",
      "|        7|          23.43|           31.3|              7.87|\n",
      "|        3|         145.56|         197.62|             52.06|\n",
      "|        8|          87.55|         114.94|             27.39|\n",
      "|        5|          37.56|          52.02|             14.46|\n",
      "|        6|          46.13|          57.49|             11.36|\n",
      "|        9|          32.52|          46.83|             14.31|\n",
      "|        1|         193.52|          227.6|             34.08|\n",
      "|        4|          31.77|          40.92|              9.15|\n",
      "|        2|          64.67|          84.25|             19.58|\n",
      "+---------+---------------+---------------+------------------+\n",
      "\n"
     ]
    }
   ],
   "source": [
    "# Estilo Sol\n",
    "(\n",
    "    sales_table\n",
    "    .join(sellers_table, on='seller_id', how='inner')\n",
    "    .join(products_table, on='product_id', how='inner')\n",
    "    .withColumn('total', (col('num_pieces_sold')*col('price')))\n",
    "    .groupby(['seller_id','date'])\n",
    "    \n",
    "    .agg(\n",
    "        sum(\"total\").alias(\"daily_total_sale\"),\n",
    "        first('daily_target').alias('daily_target')\n",
    "    )\n",
    "    \n",
    "    .withColumn(\"performance_percent\", (col(\"daily_total_sale\") / col(\"daily_target\")) * 100)\n",
    "    .groupby('seller_id')    \n",
    "    .agg(\n",
    "        round(expr(\"min(performance_percent)\"),2).alias(\"min_performance\"),\n",
    "        round(expr(\"max(performance_percent)\"),2).alias(\"max_performance\"),\n",
    "        round((max(\"performance_percent\")-min(\"performance_percent\")),2).alias(\"min_max_difference\")\n",
    "        \n",
    "    )\n",
    "    \n",
    "    .show()\n",
    ")    \n"
   ]
  },
  {
   "cell_type": "markdown",
   "id": "f34f38a7-4702-4b31-90d1-067638bd03f3",
   "metadata": {},
   "source": [
    "# Pivot tables\n",
    "\n",
    "Let's imagine that there is a \"product category\", based on the first number of the product id. To create this column, you can use the functions [lit](https://spark.apache.org/docs/latest/api/python/reference/pyspark.sql/api/pyspark.sql.functions.lit.html#) and [concat](https://spark.apache.org/docs/latest/api/python/reference/pyspark.sql/api/pyspark.sql.functions.concat.html), and the property [substr](https://spark.apache.org/docs/latest/api/python/reference/pyspark.sql/api/pyspark.sql.Column.substr.html) of a column\n",
    "\n",
    "Find out about whether or not it is more common to sell more units during the weekend, depending on product category. Use a [pivot table](https://spark.apache.org/docs/latest/api/python/reference/pyspark.sql/api/pyspark.sql.GroupedData.pivot.html).\n",
    "\n",
    "TIP: what metric should you use to know whether is it more common to sell during the weekend or not?"
   ]
  },
  {
   "cell_type": "code",
   "execution_count": 7,
   "id": "7fb4455f-55ca-4d63-989c-233cb56f58eb",
   "metadata": {},
   "outputs": [
    {
     "name": "stdout",
     "output_type": "stream",
     "text": [
      "+-------+----------+----------+----------+----------+----------+----------+----------+----------+----------+\n",
      "|weekend|category_1|category_2|category_3|category_4|category_5|category_6|category_7|category_8|category_9|\n",
      "+-------+----------+----------+----------+----------+----------+----------+----------+----------+----------+\n",
      "|  false|     51.87|     50.81|     51.01|      50.2|     50.49|     50.08|     49.82|     50.04|     50.42|\n",
      "|   true|     52.11|     52.29|     49.08|     49.12|      47.4|     48.09|     49.21|     52.64|     54.09|\n",
      "+-------+----------+----------+----------+----------+----------+----------+----------+----------+----------+\n",
      "\n"
     ]
    }
   ],
   "source": [
    "\n",
    "\n",
    "products_table = products_table.withColumn(\"product_category\", concat(lit(\"category_\"), col(\"product_id\").substr(1, 1)))\n",
    "\n",
    "\n",
    "sales_with_details = sales_table.join(products_table, \"product_id\")\n",
    "\n",
    "\n",
    "sales_with_details = sales_with_details.withColumn(\"weekend\", when(dayofweek(col(\"date\")).isin(1, 7), True).otherwise(False))\n",
    "\n",
    "\n",
    "category_sales = sales_with_details.groupBy(\"product_category\", \"weekend\").agg(avg(\"num_pieces_sold\").alias(\"total_pieces_sold\"))\n",
    "\n",
    "\n",
    "pivot_table = category_sales.groupBy(\"weekend\").pivot(\"product_category\").agg(round(sum(\"total_pieces_sold\"),2))\n",
    "\n",
    "\n",
    "pivot_table = pivot_table.orderBy(\"weekend\")\n",
    "\n",
    "\n",
    "pivot_table.show()\n"
   ]
  },
  {
   "cell_type": "markdown",
   "id": "baa24212-4a91-42f7-9b08-e3b97358a473",
   "metadata": {},
   "source": [
    "I'm not telling you the results! But it should look like this:\n",
    "\n",
    "|weekend|category_1|category_2|category_3|category_4|category_5|category_6|category_7|category_8|category_9|\n",
    "|------:|-----|-----|-----|-----|-----|-----|-----|-----|-----|\n",
    "|   true|  -  |  -  |  -  |  -  |  -  |  -  |  -  |  -  |  -  |\n",
    "|  false|  -  |  -  |  -  |  -  |  -  |  -  |  -  |  -  |  -  |"
   ]
  },
  {
   "cell_type": "markdown",
   "id": "fd5d3153-3bed-4f2a-97cf-5561f0ecbf40",
   "metadata": {},
   "source": [
    "Go back to the exercise of \"which sellers are not making their daily goal\" and study the percentage of days they make it, depending on the day of week. Can you find out any interesting information?"
   ]
  },
  {
   "cell_type": "code",
   "execution_count": 15,
   "id": "0360ed0d-7fb1-41dc-9cd3-c4a6104fff13",
   "metadata": {},
   "outputs": [
    {
     "name": "stdout",
     "output_type": "stream",
     "text": [
      "+-----------+-----+-----+-----+-----+-----+-----+-----+\n",
      "|seller_name|    1|    2|    3|    4|    5|    6|    7|\n",
      "+-----------+-----+-----+-----+-----+-----+-----+-----+\n",
      "|   seller_1|100.0|100.0|100.0|100.0|100.0|100.0|100.0|\n",
      "|   seller_2|  0.0|  0.0|  0.0|  0.0|  0.0|  0.0|  0.0|\n",
      "|   seller_3|100.0|100.0|100.0|100.0|100.0|100.0|100.0|\n",
      "|   seller_4|  0.0|  0.0|  0.0|  0.0|  0.0|  0.0|  0.0|\n",
      "|   seller_5|  0.0|  0.0|  0.0|  0.0|  0.0|  0.0|  0.0|\n",
      "|   seller_6|  0.0|  0.0|  0.0|  0.0|  0.0|  0.0|  0.0|\n",
      "|   seller_7|  0.0|  0.0|  0.0|  0.0|  0.0|  0.0|  0.0|\n",
      "|   seller_8|100.0|100.0|100.0|100.0|100.0|  0.0|  0.0|\n",
      "|   seller_9|  0.0|  0.0|  0.0|  0.0|  0.0|  0.0|  0.0|\n",
      "+-----------+-----+-----+-----+-----+-----+-----+-----+\n",
      "\n"
     ]
    }
   ],
   "source": [
    "\n",
    "\n",
    "sales_table = sales_table.withColumn(\"num_pieces_sold\", col(\"num_pieces_sold\").cast(\"int\"))\n",
    "products_table = products_table.withColumn(\"price\", col(\"price\").cast(\"float\"))\n",
    "\n",
    "\n",
    "sales_with_price = sales_table.join(products_table, \"product_id\")\n",
    "\n",
    "\n",
    "daily_sales = sales_with_price.withColumn(\"total_sale\", col(\"num_pieces_sold\") * col(\"price\")) \\\n",
    "    .groupBy(\"seller_id\", \"date\").agg(round(sum(\"total_sale\"), 2).alias(\"daily_total_sale\"))\n",
    "\n",
    "\n",
    "sales_with_target = daily_sales.join(sellers_table, \"seller_id\")\n",
    "\n",
    "\n",
    "sales_with_target = sales_with_target.withColumn(\"met_target\", col(\"daily_total_sale\") >= col(\"daily_target\").cast(\"float\"))\n",
    "\n",
    "\n",
    "sales_with_target = sales_with_target.withColumn(\"day_of_week\", dayofweek(col(\"date\")))\n",
    "\n",
    "\n",
    "performance_by_day = sales_with_target.groupBy(\"seller_name\", \"day_of_week\") \\\n",
    "    .agg((round(sum(when(col(\"met_target\"), 1).otherwise(0)) / sum(lit(1)), 2) * 100).alias(\"percentage_met\"))\n",
    "\n",
    "\n",
    "pivot_table = performance_by_day.groupBy(\"seller_name\").pivot(\"day_of_week\").agg(first(\"percentage_met\")).orderBy(\"seller_name\")\n",
    "\n",
    "\n",
    "pivot_table.show()\n"
   ]
  },
  {
   "cell_type": "markdown",
   "id": "6accc8eb-696e-447b-b991-7c58cac5c172",
   "metadata": {},
   "source": [
    "Again, I'm not telling you the results.\n",
    "\n",
    "|seller_name|    1|    2|    3|    4|    5|    6|    7|\n",
    "|----------:|-----|-----|-----|-----|-----|-----|-----|\n",
    "|   seller_1|  -  |  -  |  -  |  -  |  -  |  -  |  -  |\n",
    "|   seller_2|  -  |  -  |  -  |  -  |  -  |  -  |  -  |\n",
    "|   seller_3|  -  |  -  |  -  |  -  |  -  |  -  |  -  |\n",
    "|   seller_4|  -  |  -  |  -  |  -  |  -  |  -  |  -  |\n",
    "|   seller_5|  -  |  -  |  -  |  -  |  -  |  -  |  -  |\n",
    "|   seller_6|  -  |  -  |  -  |  -  |  -  |  -  |  -  |\n",
    "|   seller_7|  -  |  -  |  -  |  -  |  -  |  -  |  -  |\n",
    "|   seller_8|  -  |  -  |  -  |  -  |  -  |  -  |  -  |\n",
    "|   seller_9|  -  |  -  |  -  |  -  |  -  |  -  |  -  |\n"
   ]
  },
  {
   "cell_type": "markdown",
   "id": "8710422a-2a9d-4157-b2bb-e4237ebc35d1",
   "metadata": {},
   "source": [
    "# Window functions\n",
    "\n",
    "[Window functions](https://medium.com/@uzzaman.ahmed/pyspark-window-functions-a-comprehensive-guide-dc9bdad8c7ae) allow us to query subsets of the data without the need to do things like creating another group by table and joining the two.\n",
    "\n",
    "See [the documentation](https://spark.apache.org/docs/latest/api/python/reference/pyspark.sql/window.html) for everything you can do with window functions."
   ]
  },
  {
   "cell_type": "markdown",
   "id": "1ea123f1-22d9-4c1d-b86f-14ad94ae14b9",
   "metadata": {},
   "source": [
    "Which seller, and on which day, has made the most money compared to their previous day? Which one has made the least?"
   ]
  },
  {
   "cell_type": "code",
   "execution_count": 33,
   "id": "54f306da-1948-4bc7-bf47-330881a56e14",
   "metadata": {},
   "outputs": [],
   "source": [
    "\n",
    "daily_sales = (\n",
    "    sales_table\n",
    "    .groupBy('seller_id')\n",
    "    .agg(sum_col('num_pieces_sold').alias('daily_total_sale'))\n",
    ")\n",
    "\n",
    "\n",
    "sales_table_with_daily_total = (\n",
    "    sales_table\n",
    "    .join(daily_sales, on='seller_id', how='inner')\n",
    ")\n",
    "\n",
    "\n",
    "window = Window.orderBy('date')\n",
    "\n",
    "\n",
    "result = (\n",
    "    sales_table_with_daily_total\n",
    "    .withColumn('prev_day_sales', lag(col('daily_total_sale')).over(window))\n",
    "    .withColumn('profit_percent_of_prev_day', round((col('daily_total_sale') * 100) / col('prev_day_sales'), 1))\n",
    "    .filter(col('profit_percent_of_prev_day').isNotNull())\n",
    "    .drop('daily_total_sale', 'prev_day_sales','order_id','product_id','bill_raw_text')\n",
    ")"
   ]
  },
  {
   "cell_type": "code",
   "execution_count": 34,
   "id": "2ef35c41-77c9-4da6-854a-5281b386586b",
   "metadata": {},
   "outputs": [
    {
     "name": "stdout",
     "output_type": "stream",
     "text": [
      "+---------+----------+---------------+--------------------------+\n",
      "|seller_id|      date|num_pieces_sold|profit_percent_of_prev_day|\n",
      "+---------+----------+---------------+--------------------------+\n",
      "|        1|2020-07-02|             65|                      98.9|\n",
      "|        5|2020-07-01|             85|                     102.3|\n",
      "+---------+----------+---------------+--------------------------+\n",
      "\n"
     ]
    }
   ],
   "source": [
    "min = result.orderBy(col('profit_percent_of_prev_day')).limit(1)\n",
    "max = result.orderBy(col('profit_percent_of_prev_day').desc()).limit(1)\n",
    "(\n",
    "    min\n",
    "    .union(max)\n",
    "    .show()\n",
    ")"
   ]
  },
  {
   "cell_type": "markdown",
   "id": "2c037ec4-1adf-4247-94ce-9e8315ebe544",
   "metadata": {},
   "source": [
    "|seller_name|      date|profit_percent_of_prev_day|\n",
    "|----------:|----------|--------------------------|\n",
    "|   seller_5|2020-07-09|                      77.0|\n",
    "|   seller_9|2020-07-03|                     143.0|"
   ]
  },
  {
   "cell_type": "markdown",
   "id": "5b421ea9-cdc4-4709-abe2-9893cb515792",
   "metadata": {},
   "source": [
    "Coming back to the \"category\" we set before, find out, for each category, which salesman is the best, the second best and the worst at making profit from it."
   ]
  },
  {
   "cell_type": "code",
   "execution_count": 37,
   "id": "9c5888c6-83d2-4b0d-954d-898cf0cddf8d",
   "metadata": {},
   "outputs": [
    {
     "name": "stdout",
     "output_type": "stream",
     "text": [
      "+----------------+--------+--------+--------+--------+--------+--------+--------+--------+--------+\n",
      "|product_category|seller_1|seller_2|seller_3|seller_4|seller_5|seller_6|seller_7|seller_8|seller_9|\n",
      "+----------------+--------+--------+--------+--------+--------+--------+--------+--------+--------+\n",
      "|       Category2|556522.0|710244.0|536541.0|588812.0|645581.0|584572.0|633007.0|692742.0|608536.0|\n",
      "|       Category7|581579.0|568232.0|652735.0|672607.0|636005.0|702608.0|648622.0|593523.0|512249.0|\n",
      "|       Category8|640234.0|577545.0|501397.0|711303.0|687903.0|651014.0|540931.0|591161.0|782179.0|\n",
      "|       Category9|376654.0|471396.0|369138.0|362044.0|421683.0|351043.0|419635.0|407165.0|395138.0|\n",
      "|       Category1|695834.0|754037.0|650204.0|707027.0|650765.0|766770.0|654051.0|638202.0|695829.0|\n",
      "|       Category5|597671.0|535015.0|575381.0|634780.0|595126.0|555131.0|580592.0|691991.0|591207.0|\n",
      "|       Category6|604616.0|653195.0|684348.0|668271.0|518444.0|738343.0|578859.0|599273.0|550348.0|\n",
      "|       Category3|696974.0|692783.0|694050.0|696259.0|653786.0|564165.0|630930.0|796876.0|660413.0|\n",
      "|       Category4|709195.0|540542.0|604080.0|438939.0|668207.0|672917.0|783499.0|613193.0|583513.0|\n",
      "+----------------+--------+--------+--------+--------+--------+--------+--------+--------+--------+\n",
      "\n"
     ]
    }
   ],
   "source": [
    "(\n",
    "    sales_table\n",
    "    .join(sellers_table, on='seller_id', how='inner')\n",
    "    .join(products_table, on='product_id', how='inner')\n",
    "    .withColumn('total', (col('num_pieces_sold')*col('price')))\n",
    "    .withColumn('product_category', concat(lit('Category'), col('product_id').substr(1,1)))\n",
    "    .groupby('product_category')\n",
    "    .pivot('seller_name')    \n",
    "    .agg(sum(\"total\").alias(\"daily_total_sale\"))\n",
    "    .show()\n",
    ")    "
   ]
  },
  {
   "cell_type": "code",
   "execution_count": 39,
   "id": "638206d0-67ae-4804-a13f-c3923753c11f",
   "metadata": {},
   "outputs": [],
   "source": [
    "per_category = (\n",
    "      sales_table\n",
    "    .join(sellers_table, on='seller_id', how='inner')\n",
    "    .join(products_table, on='product_id', how='inner')\n",
    "    .withColumn('total', (col('num_pieces_sold')*col('price')))\n",
    "    .withColumn('product_category', concat(lit('Category'), col('product_id').substr(1,1)))\n",
    "    .groupby(['product_category','seller_name'])\n",
    "    .agg(sum(\"total\").alias(\"daily_total_sale\"))    \n",
    ")"
   ]
  },
  {
   "cell_type": "code",
   "execution_count": 40,
   "id": "fddb6e41-31a1-42d3-9014-9b776671c764",
   "metadata": {},
   "outputs": [],
   "source": [
    "window = Window.partitionBy('product_category').orderBy(desc('daily_total_sale'))"
   ]
  },
  {
   "cell_type": "code",
   "execution_count": 41,
   "id": "a996757b-9216-4897-a0d7-bd2ae2e48ddd",
   "metadata": {},
   "outputs": [],
   "source": [
    "best = (\n",
    "    per_category\n",
    "    .withColumn('rank', rank().over(window))\n",
    "    .withColumn('best',(when(col('rank')==1,col('seller_name'))))\n",
    "    .dropna()\n",
    "    .select('product_category','best')\n",
    ")"
   ]
  },
  {
   "cell_type": "code",
   "execution_count": 42,
   "id": "b6872678-bb6f-445b-b912-0e4272271225",
   "metadata": {},
   "outputs": [],
   "source": [
    "second_best = (\n",
    "    per_category\n",
    "    .withColumn('rank', rank().over(window))\n",
    "    .withColumn('best',(when(col('rank')==2,col('seller_name'))))\n",
    "    .dropna()\n",
    "    .select('product_category','best')\n",
    ")"
   ]
  },
  {
   "cell_type": "code",
   "execution_count": 43,
   "id": "962535d5-c95e-4a68-8e2f-a4e201380ff5",
   "metadata": {},
   "outputs": [],
   "source": [
    "worst = (\n",
    "    per_category\n",
    "    .withColumn('rank', rank().over(window))\n",
    "    .withColumn('best',(when(col('rank')==9,col('seller_name'))))\n",
    "    .dropna()\n",
    "    .select('product_category','best')\n",
    ")"
   ]
  },
  {
   "cell_type": "code",
   "execution_count": 44,
   "id": "f1293ed8-2e62-4909-911c-d3eeb272f236",
   "metadata": {},
   "outputs": [
    {
     "name": "stdout",
     "output_type": "stream",
     "text": [
      "+----------------+--------+--------+--------+\n",
      "|product_category|    best|    best|    best|\n",
      "+----------------+--------+--------+--------+\n",
      "|       Category1|seller_6|seller_2|seller_8|\n",
      "|       Category2|seller_2|seller_8|seller_3|\n",
      "|       Category3|seller_8|seller_1|seller_6|\n",
      "|       Category4|seller_7|seller_1|seller_4|\n",
      "|       Category5|seller_8|seller_4|seller_2|\n",
      "|       Category6|seller_6|seller_3|seller_5|\n",
      "|       Category7|seller_6|seller_4|seller_9|\n",
      "|       Category8|seller_9|seller_4|seller_3|\n",
      "|       Category9|seller_2|seller_5|seller_6|\n",
      "+----------------+--------+--------+--------+\n",
      "\n"
     ]
    }
   ],
   "source": [
    "(\n",
    "    best\n",
    "    .join(second_best, on='product_category')\n",
    "    .join(worst, on='product_category')\n",
    "    .show()\n",
    ")"
   ]
  },
  {
   "cell_type": "markdown",
   "id": "49009af9-29d8-492e-a507-ae119ba93b78",
   "metadata": {},
   "source": [
    "Tip: you can use a pivot table if you assign a value for each seller, according to their position in the category (look at the documentation for window functions!) and then rename using the property [withColumnRenamed](https://spark.apache.org/docs/latest/api/python/reference/pyspark.sql/api/pyspark.sql.DataFrame.withColumnRenamed.html).\n",
    "\n",
    "|  category|    best|second_best|   worst|\n",
    "|---------:|--------|-----------|--------|\n",
    "|category_1|seller_6|   seller_2|seller_8|\n",
    "|category_2|seller_2|   seller_8|seller_3|\n",
    "|category_3|seller_8|   seller_1|seller_6|\n",
    "|category_4|seller_7|   seller_1|seller_4|\n",
    "|category_5|seller_8|   seller_4|seller_2|\n",
    "|category_6|seller_6|   seller_3|seller_5|\n",
    "|category_7|seller_6|   seller_4|seller_9|\n",
    "|category_8|seller_9|   seller_4|seller_3|\n",
    "|category_9|seller_2|   seller_5|seller_6|"
   ]
  }
 ],
 "metadata": {
  "kernelspec": {
   "display_name": "Python 3 (ipykernel)",
   "language": "python",
   "name": "python3"
  },
  "language_info": {
   "codemirror_mode": {
    "name": "ipython",
    "version": 3
   },
   "file_extension": ".py",
   "mimetype": "text/x-python",
   "name": "python",
   "nbconvert_exporter": "python",
   "pygments_lexer": "ipython3",
   "version": "3.11.5"
  }
 },
 "nbformat": 4,
 "nbformat_minor": 5
}
